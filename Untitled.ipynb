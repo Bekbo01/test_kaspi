{
 "cells": [
  {
   "cell_type": "markdown",
   "id": "1133ae93-7c68-4530-9498-abccb4325c45",
   "metadata": {},
   "source": [
    "1. В БД создать таблицы data, info, processed со структурой как в файлах Data.csv, Info.csv,\n",
    "Processed.csv. Имена полей в исходных файлах хранятся в первых строчках.\n",
    "2. Разработать скрипт на python, выполняющий загрузку данных из исходных файлов в\n",
    "соответствующие таблицы. Достаточно сделать загрузку из файлов в текущем каталоге"
   ]
  },
  {
   "cell_type": "code",
   "execution_count": 1,
   "id": "f0c45e91-b0ef-43b6-b752-c1074f1ca964",
   "metadata": {},
   "outputs": [
    {
     "name": "stderr",
     "output_type": "stream",
     "text": [
      "c:\\users\\пользователь\\appdata\\local\\programs\\python\\python37\\lib\\site-packages\\pandas\\core\\generic.py:2615: UserWarning: The spaces in these column names will not be changed. In pandas versions < 0.14, spaces were converted to underscores.\n",
      "  method=method,\n"
     ]
    }
   ],
   "source": [
    "import sqlite3\n",
    "import pandas as pd\n",
    "\n",
    "INFO_FILE = 'indexinfo.csv'\n",
    "DATA_FILE = 'Data.csv'\n",
    "PROCESSED_FILE = 'indexProcessed.csv'\n",
    "\n",
    "infodf = pd.read_csv(INFO_FILE)\n",
    "datadf = pd.read_csv(DATA_FILE)\n",
    "processed = pd.read_csv(PROCESSED_FILE)\n",
    "\n",
    "conn = sqlite3.connect('kaspi_db')\n",
    "\n",
    "infodf.to_sql('info', conn, if_exists='replace', index = False)\n",
    "processed.to_sql('processed', conn, if_exists='replace', index = False)\n",
    "datadf.to_sql('data', conn, if_exists='replace', index = False)\n"
   ]
  },
  {
   "cell_type": "markdown",
   "id": "4c150a97-06ca-44fb-95dd-c884634c0a95",
   "metadata": {},
   "source": [
    "3.1) Разработать представление (вью) V_NOTPROCESSED, отображающее записи из\n",
    "data, которые не были обработаны (данные в processed) в разрезе по регионам (info).\n",
    "Важно: Исключить записи, содержащие одинаковые значения ключей (поле key)\n",
    "(агрегацию делать по индексу биржи)\n",
    "\n",
    "3.2) Разработать вью V_PROCESSED, отображающее все записи из processed в разрезе\n",
    "по регионам, году и месяцу. Также вью должна отображать информацию:\n",
    "\n",
    "3.2.1) самую максимальную цену в момент даты открытия и самую минимальную\n",
    "цены во время для торговли. При выводе значения также вывести название валюты\n",
    "\n",
    "3.2.2) полное наименование биржи"
   ]
  },
  {
   "cell_type": "code",
   "execution_count": 2,
   "id": "9364ee48-21b0-4cd7-8569-29d8414e7c07",
   "metadata": {},
   "outputs": [
    {
     "data": {
      "text/plain": [
       "<sqlite3.Cursor at 0x1ec822928f0>"
      ]
     },
     "execution_count": 2,
     "metadata": {},
     "output_type": "execute_result"
    }
   ],
   "source": [
    "c = conn.cursor()\n",
    "###### V_NOTPROCESSED\n",
    "c.execute('''\n",
    "            CREATE VIEW IF NOT EXISTS V_NOTPROCESSED AS \n",
    "            SELECT DISTINCT data.*, info.Region\n",
    "            FROM data\n",
    "            INNER JOIN processed ON processed.[index]=data.[Index] \n",
    "                    and processed.date=data.date\n",
    "            INNER JOIN info ON info.[Index] = data.[Index]\n",
    "            GROUP BY info.Region;\n",
    "            ''')\n",
    "####### V_PROCESSED\n",
    "c.execute('''\n",
    "            CREATE VIEW IF NOT EXISTS V_PROCESSED AS\n",
    "            SELECT processed.* , info.Region, info.Currency, info.Exchange, MAX(processed.Open) AS MaxOpen, MIN(processed.Low) AS MinPrice, \n",
    "            strftime('%Y', processed.Date), strftime('%m', processed.Date)\n",
    "            FROM processed\n",
    "            INNER JOIN info ON processed.[Index] = info.[Index]\n",
    "            GROUP BY info.Region, strftime('%Y', processed.Date), strftime('%m', processed.Date);\n",
    "            ''')\n"
   ]
  },
  {
   "cell_type": "markdown",
   "id": "a091e37b-19bc-43a8-a856-531f376dbf91",
   "metadata": {},
   "source": [
    "4. Отобразить данные из V_PROCESSED в отчетах:\n",
    "4.1) для любого региона (на ваш выбор) показать в виде 2 графиков:\n",
    "максимальную цену в момент даты открытия в месячном разрезе\n",
    "минимальную цену во время для торговли в месячном разрезе. Имя региона читается из\n",
    "кода при формировании отчета (hardcoded)\n",
    "4.2*) опционально, но дает дополнительные баллы:\n",
    "Задача 4.1, но реализовать выбор региона на отчете через графические элементы\n",
    "“список”, “выпадающее меню” или радиокнопки (если число регионов меньше 10)."
   ]
  },
  {
   "cell_type": "code",
   "execution_count": 13,
   "id": "6f38e500-497b-426e-a58c-5016aa5ff6bf",
   "metadata": {},
   "outputs": [
    {
     "data": {
      "application/vnd.jupyter.widget-view+json": {
       "model_id": "b18e2f5c61a14f8fa7de982786cc70a6",
       "version_major": 2,
       "version_minor": 0
      },
      "text/plain": [
       "interactive(children=(Dropdown(description='Region:', options=('Canada', 'Switzerland', 'China', 'Europe', 'Ge…"
      ]
     },
     "metadata": {},
     "output_type": "display_data"
    }
   ],
   "source": [
    "import numpy as np\n",
    "import matplotlib.pyplot as plt\n",
    "\n",
    "from ipywidgets import widgets, interactive\n",
    "\n",
    "\n",
    "query = ''' \n",
    "    SELECT * FROM V_PROCESSED\n",
    "'''\n",
    "c.execute(query)\n",
    "rows = c.fetchall()\n",
    "\n",
    "df = pd.DataFrame(rows)\n",
    "df = df.groupby(by=[10, 15,9], as_index=False).agg(\n",
    "    maxOpen = pd.NamedAgg(column = 12, aggfunc = 'max'),\n",
    "    minPrice = pd.NamedAgg(column = 13, aggfunc = 'min'))\n",
    "\n",
    "\n",
    "def generate_plot(region):\n",
    "    df1 = df[df[9] == region]\n",
    "    x = np.arange(1,13)\n",
    "    width = 0.4\n",
    "\n",
    "    plt.bar(x-0.6,df1.maxOpen, width, color=\"blue\")\n",
    "    plt.bar(x-0.2, df1.minPrice, width, color=\"yellow\")\n",
    "\n",
    "    plt.xticks(x)\n",
    "    plt.xlabel(\"Months\")\n",
    "\n",
    "    plt.legend([f\"MaxOpen of {region}\", f\"MinPrice of {region}\"])\n",
    "    plt.show()\n",
    "\n",
    "region = widgets.Dropdown(\n",
    "    options= list(df[9].unique()),\n",
    "    value='Canada',\n",
    "    description='Region:',\n",
    ")\n",
    "interactive(generate_plot, region=region)"
   ]
  },
  {
   "cell_type": "code",
   "execution_count": null,
   "id": "981b1120-b8e6-4b53-96c0-20cec093b569",
   "metadata": {},
   "outputs": [],
   "source": []
  }
 ],
 "metadata": {
  "kernelspec": {
   "display_name": "Python 3 (ipykernel)",
   "language": "python",
   "name": "python3"
  },
  "language_info": {
   "codemirror_mode": {
    "name": "ipython",
    "version": 3
   },
   "file_extension": ".py",
   "mimetype": "text/x-python",
   "name": "python",
   "nbconvert_exporter": "python",
   "pygments_lexer": "ipython3",
   "version": "3.7.0"
  }
 },
 "nbformat": 4,
 "nbformat_minor": 5
}
